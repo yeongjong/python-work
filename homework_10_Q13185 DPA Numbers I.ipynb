{
 "cells": [
  {
   "cell_type": "code",
   "execution_count": 35,
   "metadata": {},
   "outputs": [
    {
     "name": "stdout",
     "output_type": "stream",
     "text": [
      "10\n",
      "5\n",
      "6\n",
      "16\n",
      "18\n",
      "21\n",
      "28\n",
      "29\n",
      "30\n",
      "40\n",
      "43\n",
      "deficient\n",
      "perfect\n",
      "deficient\n",
      "abundant\n",
      "deficient\n",
      "perfect\n",
      "deficient\n",
      "abundant\n",
      "abundant\n",
      "deficient\n"
     ]
    }
   ],
   "source": [
    "## Q13185 DPA Numbers I\n",
    "## 一個整數b如果可以被另一個整數a整除（在這裡a>b），我們稱b是a的一個因數。\n",
    "## Perfect Number是一個正整數並且等於其所有因數（不包含它自己）的和。\n",
    "\n",
    "t=int(input())\n",
    "S=[]\n",
    "M=[]\n",
    "for j in range(t):\n",
    "    N=int(input())\n",
    "    S.append(N)\n",
    "\n",
    "    L=[]\n",
    "    for i in range (1,(N//2)+1):\n",
    "        if N%i ==0:\n",
    "            L.append(i)\n",
    "    a=sum(L)\n",
    "\n",
    "    if a == N:\n",
    "        M.append('perfect')\n",
    "    elif a < N:\n",
    "        M.append('deficient')\n",
    "    elif a > N:\n",
    "        M.append('abundant')\n",
    "    \n",
    "for k in range(t):\n",
    "    print(M[k],end=\"\\n\")\n"
   ]
  },
  {
   "cell_type": "code",
   "execution_count": null,
   "metadata": {},
   "outputs": [],
   "source": []
  },
  {
   "cell_type": "code",
   "execution_count": null,
   "metadata": {},
   "outputs": [],
   "source": []
  }
 ],
 "metadata": {
  "kernelspec": {
   "display_name": "Python 3",
   "language": "python",
   "name": "python3"
  },
  "language_info": {
   "codemirror_mode": {
    "name": "ipython",
    "version": 3
   },
   "file_extension": ".py",
   "mimetype": "text/x-python",
   "name": "python",
   "nbconvert_exporter": "python",
   "pygments_lexer": "ipython3",
   "version": "3.7.3"
  }
 },
 "nbformat": 4,
 "nbformat_minor": 2
}
