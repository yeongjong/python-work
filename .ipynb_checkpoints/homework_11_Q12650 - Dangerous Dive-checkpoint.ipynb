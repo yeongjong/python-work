{
 "cells": [
  {
   "cell_type": "code",
   "execution_count": 32,
   "metadata": {},
   "outputs": [
    {
     "name": "stdout",
     "output_type": "stream",
     "text": [
      "7 7\n",
      "2 3 6 1 4 5 7\n",
      "*\n"
     ]
    }
   ],
   "source": [
    "## Q12650 - Dangerous Dive\n",
    "L=[]\n",
    "S1=[]\n",
    "S2=[]\n",
    "D=[]\n",
    "L=input().split()\n",
    "S1=input().split()\n",
    "\n",
    "for j in range(len(S1)):\n",
    "    a=int(S1[j])\n",
    "    S2.append(a)\n",
    "    \n",
    "n=int(L[0])\n",
    "R=int(L[1])\n",
    "#print(n,R)\n",
    "#print(S1)\n",
    "#print(S2)\n",
    "if n==R:\n",
    "    print(\"*\")\n",
    "else:\n",
    "    for i in range(1,n+1):\n",
    "        if i not in S2:\n",
    "            D.append(i)\n",
    "for k in range(len(D)):\n",
    "    print(D[k],end=' ')        "
   ]
  },
  {
   "cell_type": "code",
   "execution_count": null,
   "metadata": {},
   "outputs": [],
   "source": []
  },
  {
   "cell_type": "code",
   "execution_count": null,
   "metadata": {},
   "outputs": [],
   "source": []
  }
 ],
 "metadata": {
  "kernelspec": {
   "display_name": "Python 3",
   "language": "python",
   "name": "python3"
  },
  "language_info": {
   "codemirror_mode": {
    "name": "ipython",
    "version": 3
   },
   "file_extension": ".py",
   "mimetype": "text/x-python",
   "name": "python",
   "nbconvert_exporter": "python",
   "pygments_lexer": "ipython3",
   "version": "3.7.3"
  }
 },
 "nbformat": 4,
 "nbformat_minor": 2
}
