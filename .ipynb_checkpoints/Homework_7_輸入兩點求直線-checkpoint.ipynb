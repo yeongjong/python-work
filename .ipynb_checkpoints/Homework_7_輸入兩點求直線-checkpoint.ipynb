{
 "cells": [
  {
   "cell_type": "code",
   "execution_count": 21,
   "metadata": {},
   "outputs": [
    {
     "name": "stdout",
     "output_type": "stream",
     "text": [
      "請輸入第一點x座標1\n",
      "請輸入第一點y座標1\n",
      "請輸入第二點x座標2\n",
      "請輸入第二點y座標2\n",
      "直線的關係式為:y=1x+(-0)\n"
     ]
    }
   ],
   "source": [
    "#輸入兩點求直線\n",
    "\n",
    "%matplotlib inline\n",
    "import numpy as np\n",
    "import matplotlib.pyplot as plt\n",
    "\n",
    "x1=int(input('請輸入第一點x座標'))\n",
    "y1=int(input('請輸入第一點y座標'))\n",
    "x2=int(input('請輸入第二點x座標'))\n",
    "y2=int(input('請輸入第二點y座標'))\n",
    "#x=x1;y=y1\n",
    "\n",
    "a=(y1-y2)/(x1-x2)\n",
    "#print(a)\n",
    "b=(-y1*x2+y2*x1)/(x1-x2)\n",
    "print(f'直線的關係式為:y={a:.0f}x+({b:.0f})')"
   ]
  },
  {
   "cell_type": "code",
   "execution_count": null,
   "metadata": {},
   "outputs": [],
   "source": []
  }
 ],
 "metadata": {
  "kernelspec": {
   "display_name": "Python 3",
   "language": "python",
   "name": "python3"
  },
  "language_info": {
   "codemirror_mode": {
    "name": "ipython",
    "version": 3
   },
   "file_extension": ".py",
   "mimetype": "text/x-python",
   "name": "python",
   "nbconvert_exporter": "python",
   "pygments_lexer": "ipython3",
   "version": "3.7.3"
  }
 },
 "nbformat": 4,
 "nbformat_minor": 2
}
