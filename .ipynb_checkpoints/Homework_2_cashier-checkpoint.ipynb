{
 "cells": [
  {
   "cell_type": "code",
   "execution_count": 30,
   "metadata": {},
   "outputs": [
    {
     "name": "stdout",
     "output_type": "stream",
     "text": [
      "『程式設計』鍋貼水餃店，您好：\n",
      "請選取您需要的餐點與數量\n",
      "您需要菜餐嗎?(y/n)y\n",
      "['招牌鍋貼     5元', '咖哩鍋貼     8元', '招牌水餃     6元', '咖哩水餃     9元', '酸辣湯      35元', '玉米濃湯    30元', '黑豆漿      17元']\n",
      "\n",
      "招牌鍋貼  5元，幾個?10\n",
      "咖哩鍋貼  8元，幾個?10\n",
      "招牌水餃  6元，幾個?10\n",
      "咖哩水餃  9元，幾個?10\n",
      "酸辣湯   35元，幾碗?4\n",
      "玉米濃湯 30元，幾碗?0\n",
      "黑豆漿   17元，幾杯?1\n",
      "請問您為政大教職員，可享九折優惠嗎?(y/n)n\n",
      "總金額： 437.0\n",
      "\n",
      "謝謝您的惠顧\n"
     ]
    }
   ],
   "source": [
    "## 鍋貼水餃店收銀機\n",
    "print('『程式設計』鍋貼水餃店，您好：')\n",
    "print('請選取您需要的餐點與數量')\n",
    "\n",
    "Menu = {'招牌鍋貼     5元':'5', '咖哩鍋貼     8元':'8', '招牌水餃     6元':'6','咖哩水餃     9元':'9', '酸辣湯      35元':'35', '玉米濃湯    30元':'30', '黑豆漿      17元':'17'}\n",
    "A=\"\"\n",
    "A = input(\"您需要菜餐嗎?(y/n)\")\n",
    "if A!=\"n\":\n",
    "    print(list(Menu))\n",
    "    print()\n",
    "else:    \n",
    "    print('開始點餐')\n",
    "    print()\n",
    "    print()\n",
    "\n",
    "\n",
    "B= float(input(\"招牌鍋貼  5元，幾個?\"))\n",
    "C= float(input(\"咖哩鍋貼  8元，幾個?\"))\n",
    "D= float(input(\"招牌水餃  6元，幾個?\"))\n",
    "E= float(input(\"咖哩水餃  9元，幾個?\"))\n",
    "F= float(input(\"酸辣湯   35元，幾碗?\"))\n",
    "G= float(input(\"玉米濃湯 30元，幾碗?\"))\n",
    "H= float(input(\"黑豆漿   17元，幾杯?\"))\n",
    "\n",
    "I=\"\"\n",
    "I = input(\"請問您為政大教職員，可享九折優惠嗎?(y/n)\")\n",
    "if I!=\"n\":\n",
    "    print('優惠價：',int((B*5+C*8+D*6+E*9+F*35+G*30+H*17)*0.9))\n",
    "    print()\n",
    "else:    \n",
    "    print('總金額：',B*5+C*8+D*6+E*9+F*35+G*30+H*17)\n",
    "    print()\n",
    "print('謝謝您的惠顧！')"
   ]
  },
  {
   "cell_type": "code",
   "execution_count": null,
   "metadata": {},
   "outputs": [],
   "source": []
  },
  {
   "cell_type": "code",
   "execution_count": null,
   "metadata": {},
   "outputs": [],
   "source": []
  }
 ],
 "metadata": {
  "kernelspec": {
   "display_name": "Python 3",
   "language": "python",
   "name": "python3"
  },
  "language_info": {
   "codemirror_mode": {
    "name": "ipython",
    "version": 3
   },
   "file_extension": ".py",
   "mimetype": "text/x-python",
   "name": "python",
   "nbconvert_exporter": "python",
   "pygments_lexer": "ipython3",
   "version": "3.7.3"
  }
 },
 "nbformat": 4,
 "nbformat_minor": 2
}
