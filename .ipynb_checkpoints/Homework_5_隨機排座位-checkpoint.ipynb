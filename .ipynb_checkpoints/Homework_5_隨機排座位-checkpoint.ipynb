{
 "cells": [
  {
   "cell_type": "code",
   "execution_count": 1,
   "metadata": {},
   "outputs": [
    {
     "name": "stdout",
     "output_type": "stream",
     "text": [
      "\n",
      "['    ', '列一', '列二', '列三', '列四', '列五']\n",
      " 行  0 ,['如萱', '瑞庭', '孟桓', '仰德', '芊瑾']\n",
      " 行  1 ,['軒程', '丞晏', '姸安', '姮諭', '岱為']\n",
      " 行  2 ,['在宇', '珈甄', '沛君', '瑾昀', '冠諭']\n",
      " 行  3 ,['耿元', '裕熙', '紘齊', '丞禾', '佳人']\n"
     ]
    }
   ],
   "source": [
    "# 隨機排座位\n",
    "name='''\n",
    "裕熙\n",
    "丞禾\n",
    "冠諭\n",
    "仰德\n",
    "在宇\n",
    "紘齊\n",
    "耿元\n",
    "軒程\n",
    "孟桓\n",
    "岱為\n",
    "瑾昀\n",
    "丞晏\n",
    "沛君\n",
    "芊瑾\n",
    "佳人\n",
    "瑞庭\n",
    "如萱\n",
    "珈甄\n",
    "姸安\n",
    "姮諭\n",
    "'''\n",
    "\n",
    "T=['    ','列一','列二','列三','列四','列五']\n",
    "\n",
    "import random\n",
    "from random import sample\n",
    "\n",
    "names = name.split('\\n')\n",
    "del names[0]\n",
    "del names[20]\n",
    "A=[]\n",
    "for i in range(0,19+1):\n",
    "    j=random.randint(0,19-i)\n",
    "    A.append(names[j])\n",
    "    del names[j]\n",
    "    #print(A)\n",
    "\n",
    "print()\n",
    "print(T)\n",
    "for k in range(0,4):\n",
    "    print(f' 行 {k:2d} ,{A[0+5*k:5+5*k]}')\n"
   ]
  },
  {
   "cell_type": "code",
   "execution_count": null,
   "metadata": {},
   "outputs": [],
   "source": []
  }
 ],
 "metadata": {
  "kernelspec": {
   "display_name": "Python 3",
   "language": "python",
   "name": "python3"
  },
  "language_info": {
   "codemirror_mode": {
    "name": "ipython",
    "version": 3
   },
   "file_extension": ".py",
   "mimetype": "text/x-python",
   "name": "python",
   "nbconvert_exporter": "python",
   "pygments_lexer": "ipython3",
   "version": "3.7.3"
  }
 },
 "nbformat": 4,
 "nbformat_minor": 2
}
