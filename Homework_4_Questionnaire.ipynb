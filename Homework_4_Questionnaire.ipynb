{
 "cells": [
  {
   "cell_type": "code",
   "execution_count": 6,
   "metadata": {},
   "outputs": [
    {
     "data": {
      "application/vnd.jupyter.widget-view+json": {
       "model_id": "41e767f74993455c913253d44a53a5a2",
       "version_major": 2,
       "version_minor": 0
      },
      "text/plain": [
       "interactive(children=(Text(value='學員姓名:', description='x'), Output()), _dom_classes=('widget-interact',))"
      ]
     },
     "metadata": {},
     "output_type": "display_data"
    },
    {
     "data": {
      "application/vnd.jupyter.widget-view+json": {
       "model_id": "1b44de4030e741c0bb736cdec148e6bc",
       "version_major": 2,
       "version_minor": 0
      },
      "text/plain": [
       "interactive(children=(Dropdown(description='y', options=('臺北市', '新北市', '桃園市', '臺中市', '臺南市', '高雄市'), value='臺北市…"
      ]
     },
     "metadata": {},
     "output_type": "display_data"
    },
    {
     "data": {
      "application/vnd.jupyter.widget-view+json": {
       "model_id": "db1cc21488d24f5792ca90c24f0c526f",
       "version_major": 2,
       "version_minor": 0
      },
      "text/plain": [
       "interactive(children=(IntSlider(value=1, description='A', min=1), Output()), _dom_classes=('widget-interact',)…"
      ]
     },
     "metadata": {},
     "output_type": "display_data"
    },
    {
     "data": {
      "application/vnd.jupyter.widget-view+json": {
       "model_id": "adad9effd67349ce94694e9e8ec4c32c",
       "version_major": 2,
       "version_minor": 0
      },
      "text/plain": [
       "interactive(children=(IntSlider(value=1, description='B', min=1), Output()), _dom_classes=('widget-interact',)…"
      ]
     },
     "metadata": {},
     "output_type": "display_data"
    },
    {
     "data": {
      "application/vnd.jupyter.widget-view+json": {
       "model_id": "3642d0e0a9ef4a67b54f0bc2784a2719",
       "version_major": 2,
       "version_minor": 0
      },
      "text/plain": [
       "interactive(children=(IntSlider(value=1, description='C', min=1), Output()), _dom_classes=('widget-interact',)…"
      ]
     },
     "metadata": {},
     "output_type": "display_data"
    },
    {
     "data": {
      "text/plain": [
       "<function __main__.move(C=1)>"
      ]
     },
     "execution_count": 6,
     "metadata": {},
     "output_type": "execute_result"
    }
   ],
   "source": [
    "## 課程滿意度調查\n",
    "\n",
    "%matplotlib inline\n",
    "from ipywidgets import interact\n",
    "from IPython.display import clear_output\n",
    "\n",
    "def f(x):\n",
    "    print('請您協助填寫今天課程的滿意度問卷')\n",
    "interact(f, x = \"學員姓名:\")\n",
    "\n",
    "def f(y):\n",
    "    print('請問您來自於哪一個直轄市')\n",
    "interact(f, y = [\"臺北市\",\"新北市\",\"桃園市\", \"臺中市\",\"臺南市\", \"高雄市\"])\n",
    "\n",
    "def move(A=1):\n",
    "    \n",
    "    print(\"【場地環境】\"+\" \"*A + \"●\")\n",
    "    print('滿意度低(1)<------------------------------------------------------------------------------------------->滿意度高(100)')\n",
    "interact(move, A=(1, 100))\n",
    "\n",
    "def move(B=1):\n",
    "    print(\"【課程內容】\"+\" \"*B + \"●\")\n",
    "    print('滿意度低(1)<------------------------------------------------------------------------------------------->滿意度高(100)')\n",
    "interact(move, B=(1, 100))\n",
    "\n",
    "def move(C=1):\n",
    "    print(\"【時間掌控】\"+\" \"*C + \"●\")\n",
    "    print('滿意度低(1)<------------------------------------------------------------------------------------------->滿意度高(100)')\n",
    "interact(move, C=(1, 100))"
   ]
  },
  {
   "cell_type": "code",
   "execution_count": null,
   "metadata": {},
   "outputs": [],
   "source": []
  },
  {
   "cell_type": "code",
   "execution_count": null,
   "metadata": {},
   "outputs": [],
   "source": []
  }
 ],
 "metadata": {
  "kernelspec": {
   "display_name": "Python 3",
   "language": "python",
   "name": "python3"
  },
  "language_info": {
   "codemirror_mode": {
    "name": "ipython",
    "version": 3
   },
   "file_extension": ".py",
   "mimetype": "text/x-python",
   "name": "python",
   "nbconvert_exporter": "python",
   "pygments_lexer": "ipython3",
   "version": "3.7.3"
  }
 },
 "nbformat": 4,
 "nbformat_minor": 2
}
