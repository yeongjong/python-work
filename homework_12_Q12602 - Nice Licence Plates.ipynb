{
 "cells": [
  {
   "cell_type": "code",
   "execution_count": 50,
   "metadata": {},
   "outputs": [
    {
     "name": "stdout",
     "output_type": "stream",
     "text": [
      "2\n",
      "ABC-0123\n",
      "AAA-9999\n",
      "nice\n",
      "not nice\n"
     ]
    }
   ],
   "source": [
    "## Q12602 - Nice Licence Plates\n",
    "## 給定一個車牌號碼表，你的程式要能判斷車牌是不是nice\n",
    "n=int(input())\n",
    "\n",
    "S=[]\n",
    "R=[]\n",
    "for i in range(n):\n",
    "    L=[]\n",
    "    L=list(input())\n",
    "    S.append(L)\n",
    "#print(S)\n",
    "#print(S[0])\n",
    "#print(S[1])\n",
    "    a=int(L[0],36)-10\n",
    "    b=int(L[1],36)-10\n",
    "    c=int(L[2],36)-10\n",
    "    d=int(L[4])\n",
    "    e=int(L[5])\n",
    "    f=int(L[6])\n",
    "    g=int(L[7])\n",
    "    #print(a,b,c,d,e,f,g)\n",
    "    #print(a*26**2+b*26+c)\n",
    "    #print(d*1000+e*100+f*10+g)\n",
    "    #print((a*26**2+b*26+c)-(d*1000+e*100+f*10+g))\n",
    "    if ((a*26**2+b*26+c)-(d*1000+e*100+f*10+g)<=100) and ((a*26**2+b*26+c)-(d*1000+e*100+f*10+g)>= -100):\n",
    "        R.append('nice')\n",
    "    else:\n",
    "        R.append('not nice')\n",
    "\n",
    "for j in range(n):\n",
    "    print(R[j],end='\\n')"
   ]
  },
  {
   "cell_type": "code",
   "execution_count": null,
   "metadata": {},
   "outputs": [],
   "source": []
  },
  {
   "cell_type": "code",
   "execution_count": null,
   "metadata": {},
   "outputs": [],
   "source": []
  }
 ],
 "metadata": {
  "kernelspec": {
   "display_name": "Python 3",
   "language": "python",
   "name": "python3"
  }
 },
 "nbformat": 4,
 "nbformat_minor": 2
}
