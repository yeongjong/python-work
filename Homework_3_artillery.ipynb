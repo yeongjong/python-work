{
 "cells": [
  {
   "cell_type": "code",
   "execution_count": 20,
   "metadata": {},
   "outputs": [
    {
     "name": "stdout",
     "output_type": "stream",
     "text": [
      "『砲彈射擊』–落點於目標50公尺內才能有攻擊效果\n",
      "發現正前方海面上目標物距離 5365 公尺\n",
      "請輸入砲彈發射速度(公尺/每秒)1000\n",
      "請輸入砲彈發射仰角(0~180度)75\n",
      "水平速度= 258 公尺/每秒\n",
      "垂直速度= 965 公尺/每秒\n",
      "g= 10 公尺/秒平方\n",
      "飛行時間 193.18516525781368 秒\n",
      "射擊距離 50000 公尺\n",
      "沒打中，打太遠！\n"
     ]
    }
   ],
   "source": [
    "## 砲彈射擊\n",
    "# V=初速\n",
    "# distance=目標物距離\n",
    "# Elevation angle θ(0 to π)=發射仰角\n",
    "## Vx=水平速度\n",
    "## Vy=垂直速度\n",
    "\n",
    "%matplotlib inline\n",
    "\n",
    "import numpy as np\n",
    "import matplotlib.pyplot as plt\n",
    "from random import randint\n",
    "π=np.pi\n",
    "print('『砲彈射擊』–落點於目標50公尺內才能有攻擊效果')\n",
    "\n",
    "distance=randint(1, 10000)\n",
    "print('發現正前方海面上目標物距離', distance ,'公尺')\n",
    "\n",
    "V=int(float(input(\"請輸入砲彈發射速度(公尺/每秒)\")))\n",
    "θ=int(float(input(\"請輸入砲彈發射仰角(0~180度)\")))\n",
    "cos=np.cos(θ*π/180)\n",
    "sin=np.sin(θ*π/180)\n",
    "\n",
    "def Vx(θ):\n",
    "    return V*cos\n",
    "print ('水平速度=',int(Vx(θ*π/180)),'公尺/每秒')\n",
    "    \n",
    "def Vy(θ):\n",
    "    return V*sin\n",
    "print ('垂直速度=',int(Vy(θ*π/180)),'公尺/每秒')\n",
    "\n",
    "g=10\n",
    "print ('g=',g,'公尺/秒平方')\n",
    "t=(Vy(θ)*2)/g\n",
    "print ('飛行時間',t,'秒')\n",
    "\n",
    "dx=Vx(θ)*t\n",
    "print('射擊距離',int(dx),'公尺')\n",
    "ans=(distance-int(dx))\n",
    "#print('與目標距離',int(ans),'公尺')\n",
    "  \n",
    "if int(dx)>distance+50:\n",
    "    print('沒打中，打太遠！')\n",
    "elif int(dx)<0:\n",
    "    print('搞錯方向，打到自己人啦！')\n",
    "elif int(dx)<distance-50:\n",
    "    print('沒打中，打太近！')\n",
    "else: \n",
    "    print('命中目標，這麼難也能打中，太強拉！') "
   ]
  },
  {
   "cell_type": "code",
   "execution_count": null,
   "metadata": {},
   "outputs": [],
   "source": []
  },
  {
   "cell_type": "code",
   "execution_count": null,
   "metadata": {},
   "outputs": [],
   "source": []
  },
  {
   "cell_type": "code",
   "execution_count": null,
   "metadata": {},
   "outputs": [],
   "source": []
  }
 ],
 "metadata": {
  "kernelspec": {
   "display_name": "Python 3",
   "language": "python",
   "name": "python3"
  },
  "language_info": {
   "codemirror_mode": {
    "name": "ipython",
    "version": 3
   },
   "file_extension": ".py",
   "mimetype": "text/x-python",
   "name": "python",
   "nbconvert_exporter": "python",
   "pygments_lexer": "ipython3",
   "version": "3.7.3"
  }
 },
 "nbformat": 4,
 "nbformat_minor": 2
}
