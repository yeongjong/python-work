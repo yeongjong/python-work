{
 "cells": [
  {
   "cell_type": "code",
   "execution_count": 4,
   "metadata": {},
   "outputs": [
    {
     "name": "stdout",
     "output_type": "stream",
     "text": [
      "4\n",
      "0\n",
      "1\n",
      "2\n",
      "9999999999999999999999\n",
      "1\n",
      "66\n",
      "56\n",
      "36\n"
     ]
    }
   ],
   "source": [
    "#Q13216 Problem with a ridiculously long name ;\n",
    "#but with a ridiculously short description\n",
    "#給你一個整數 n ，請你計算 ( 66n ) mod 100\n",
    "\n",
    "n=int(input ())\n",
    "L=[]\n",
    "for n in range (n):\n",
    "    a=int(input())\n",
    "    if a >=6:\n",
    "        ans=66**((a-1)%5+1)%100\n",
    "        L.append(ans)\n",
    "    else:\n",
    "        ans=66**a%100\n",
    "    #print(ans)\n",
    "        L.append(ans)\n",
    "\n",
    "#print(L,end='\\n')\n",
    "b=len(L)\n",
    "for b in range(b):\n",
    "    print(L[b])"
   ]
  },
  {
   "cell_type": "code",
   "execution_count": null,
   "metadata": {},
   "outputs": [],
   "source": []
  },
  {
   "cell_type": "code",
   "execution_count": null,
   "metadata": {},
   "outputs": [],
   "source": []
  }
 ],
 "metadata": {
  "kernelspec": {
   "display_name": "Python 3",
   "language": "python",
   "name": "python3"
  },
  "language_info": {
   "codemirror_mode": {
    "name": "ipython",
    "version": 3
   },
   "file_extension": ".py",
   "mimetype": "text/x-python",
   "name": "python",
   "nbconvert_exporter": "python",
   "pygments_lexer": "ipython3",
   "version": "3.7.3"
  }
 },
 "nbformat": 4,
 "nbformat_minor": 2
}
