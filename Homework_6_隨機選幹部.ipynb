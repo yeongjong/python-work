{
 "cells": [
  {
   "cell_type": "code",
   "execution_count": null,
   "metadata": {},
   "outputs": [],
   "source": [
    "# 隨機選幹部\n",
    "name='''\n",
    "裕熙\n",
    "丞禾\n",
    "冠諭\n",
    "仰德\n",
    "在宇\n",
    "紘齊\n",
    "耿元\n",
    "軒程\n",
    "孟桓\n",
    "岱為\n",
    "瑾昀\n",
    "丞晏\n",
    "沛君\n",
    "芊瑾\n",
    "佳人\n",
    "瑞庭\n",
    "如萱\n",
    "珈甄\n",
    "姸安\n",
    "姮諭\n",
    "'''\n",
    "\n",
    "postion=['班  長','副班長','學  藝','衛  生','總  務','風  紀','康  樂']\n",
    "\n",
    "import random\n",
    "from random import sample\n",
    "\n",
    "names = name.split('\\n')\n",
    "\n",
    "del names[0]\n",
    "del names[20]\n",
    "\n",
    "for i in range(0,6+1):\n",
    "    j=random.randint(0,19-i)\n",
    "    print(postion[i],names[j])\n",
    "    del names[j]\n",
    "print()\n",
    "print(\"未擔任幹部的同學\",names)"
   ]
  },
  {
   "cell_type": "code",
   "execution_count": null,
   "metadata": {},
   "outputs": [],
   "source": []
  },
  {
   "cell_type": "code",
   "execution_count": null,
   "metadata": {},
   "outputs": [],
   "source": []
  }
 ],
 "metadata": {
  "kernelspec": {
   "display_name": "Python 3",
   "language": "python",
   "name": "python3"
  },
  "language_info": {
   "codemirror_mode": {
    "name": "ipython",
    "version": 3
   },
   "file_extension": ".py",
   "mimetype": "text/x-python",
   "name": "python",
   "nbconvert_exporter": "python",
   "pygments_lexer": "ipython3",
   "version": "3.7.3"
  }
 },
 "nbformat": 4,
 "nbformat_minor": 2
}
