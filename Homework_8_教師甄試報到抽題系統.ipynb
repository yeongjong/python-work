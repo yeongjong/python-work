{
 "cells": [
  {
   "cell_type": "code",
   "execution_count": 6,
   "metadata": {},
   "outputs": [
    {
     "name": "stdout",
     "output_type": "stream",
     "text": [
      "請輸入您的姓名王大寶\n",
      "王大寶 您的試教項目為: ['籃球']\n"
     ]
    }
   ],
   "source": [
    "import random\n",
    "from random import sample\n",
    "a=input('請輸入您的姓名')\n",
    "s=['排球','籃球','網球','羽球','桌球','棒球','游泳']\n",
    "t=random.sample(s,1)\n",
    "print(a,'您的試教項目為:',t)"
   ]
  },
  {
   "cell_type": "code",
   "execution_count": null,
   "metadata": {},
   "outputs": [],
   "source": []
  }
 ],
 "metadata": {
  "kernelspec": {
   "display_name": "Python 3",
   "language": "python",
   "name": "python3"
  },
  "language_info": {
   "codemirror_mode": {
    "name": "ipython",
    "version": 3
   },
   "file_extension": ".py",
   "mimetype": "text/x-python",
   "name": "python",
   "nbconvert_exporter": "python",
   "pygments_lexer": "ipython3",
   "version": "3.7.3"
  }
 },
 "nbformat": 4,
 "nbformat_minor": 2
}
